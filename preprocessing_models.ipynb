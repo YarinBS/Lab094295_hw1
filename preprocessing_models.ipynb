{
 "cells": [
  {
   "cell_type": "code",
   "execution_count": 34,
   "id": "e785d45b",
   "metadata": {},
   "outputs": [
    {
     "data": {
      "text/html": [
       "<style>.container { width:95% !important; }</style>"
      ],
      "text/plain": [
       "<IPython.core.display.HTML object>"
      ]
     },
     "metadata": {},
     "output_type": "display_data"
    }
   ],
   "source": [
    "from IPython.display import display, HTML\n",
    "display(HTML(\"<style>.container { width:95% !important; }</style>\"))"
   ]
  },
  {
   "cell_type": "markdown",
   "id": "a8c99e82",
   "metadata": {},
   "source": [
    "Imports"
   ]
  },
  {
   "cell_type": "code",
   "execution_count": 1,
   "id": "912d67c8",
   "metadata": {},
   "outputs": [],
   "source": [
    "import pandas as pd\n",
    "import numpy as np\n",
    "import matplotlib.pyplot as plt\n",
    "import seaborn as sns\n",
    "from sklearn.preprocessing import PolynomialFeatures, StandardScaler\n",
    "from imblearn.over_sampling import SMOTENC\n",
    "from sklearn.model_selection import train_test_split, RandomizedSearchCV, GridSearchCV\n",
    "from sklearn.svm import SVC\n",
    "from sklearn.ensemble import RandomForestClassifier, GradientBoostingClassifier\n",
    "from sklearn.metrics import precision_score, recall_score, f1_score, roc_curve, roc_auc_score\n",
    "from xgboost import XGBClassifier\n",
    "from tqdm import tqdm\n",
    "import os\n",
    "import pickle"
   ]
  },
  {
   "cell_type": "markdown",
   "id": "f2119d39",
   "metadata": {},
   "source": [
    "## Executive Summary"
   ]
  },
  {
   "cell_type": "markdown",
   "id": "3003eaa0",
   "metadata": {},
   "source": [
    "1. After ignoring the rows for patients with sepsis (as requested), we created a new feature which is the rows count.\n",
    "2. For each patient we filled the NaN values for our selected features using an linear interpolation method.\n",
    "3. We calculated the mean of the features after the nulls imputation. This aggregation result represents the patient.\n",
    "4. For fixing the imbalance of the classes we used over sampling technique.\n",
    "5. Finally we standardize features by removing the mean and scaling to unit variance."
   ]
  },
  {
   "cell_type": "markdown",
   "id": "e55b3b66",
   "metadata": {},
   "source": [
    "### The Features\n",
    "\n",
    "Vital signs:\n",
    "\n",
    "1. HR - Heart rate (beats per minute)\n",
    "2. O2Sat - Pulse oximetry (%)\n",
    "3. Temp - Temperature (Deg C)\n",
    "4. SBP - Systolic BP (mm Hg)\n",
    "5. MAP - Mean arterial pressure (mm Hg)\n",
    "6. DBP - Diastolic BP (mm Hg)\n",
    "7. Resp - Respiration rate (breaths per minute)\n",
    "8. EtCO2 - End tidal carbon dioxide (mm Hg)\n",
    "\n",
    "Laboratory values:\n",
    "\n",
    "9. BaseExcess - Measure of excess bicarbonate (mmol/L)\n",
    "10. HCO3 - Bicarbonate (mmol/L)\n",
    "11. FiO2 - Fraction of inspired oxygen (%)\n",
    "12. pH - N/A\n",
    "13. PaCO2 - Partial pressure of carbon dioxide from arterial blood (mm Hg)\n",
    "14. SaO2 - Oxygen saturation from arterial blood (%)\n",
    "15. AST - Aspartate transaminase (IU/L)\n",
    "16. BUN - Blood urea nitrogen (mg/dL)\n",
    "17. Alkalinephos - Alkaline phosphatase (IU/L)\n",
    "18. Calcium - amount of calcuim in blood (mg/dL)\n",
    "19. Chloride (mmol/L)\n",
    "20. Creatinine (mg/dL)\n",
    "21. Bilirubin_direct - indicates level of effectiveness in liver's work (mg/dL)\n",
    "22. Glucose - Serum glucose (mg/dL)\n",
    "23. Lactate - Lactic acid (mg/dL)\n",
    "24. Magnesium (mmol/dL)\n",
    "25. Phosphate (mg/dL)\n",
    "26. Potassium (mmol/L)\n",
    "27. Bilirubin_total - Total bilirubin (mg/dL)\n",
    "28. TroponinI - Troponin I, vital for muscles (ng/mL)\n",
    "29. Hct - Hematocrit (%)\n",
    "30. Hgb - Hemoglobin (g/dL)\n",
    "31. PTT - partial thromboplastin time (seconds)\n",
    "32. WBC - Leukocyte count (count*10^3/μL)\n",
    "33. Fibrinogen - level of fibrinogen, which indicates liver’s work (mg/dL)\n",
    "34. Platelets - level of platelets, which is vital for blooding prevention (count*10^3/μL)\n",
    "\n",
    "Demographics:\n",
    "\n",
    "35. Age - age of the patient in years (100 for patients 90 or above)\n",
    "36. Gender - binary variable, 0 for female and 1 for male\n",
    "37. Unit1 - Administrative identifier for ICU unit (MICU)\n",
    "38. Unit2 - Administrative identifier for ICU unit (SICU)\n",
    "39. HospAdmTime - Hours between hospital admit and ICU admit\n",
    "40. ICULOS - ICU length-of-stay (hours since ICU admit)\n",
    "\n",
    "Outcome:\n",
    "\n",
    "41. SepsisLabel - binary variable. It is 1 if the patient has sepsis or the record is less than 6 hours before the first indication of the sepsis. Otherwise, it is ‘0’."
   ]
  },
  {
   "cell_type": "markdown",
   "id": "24b34119",
   "metadata": {},
   "source": [
    "### Exploring the missing data"
   ]
  },
  {
   "cell_type": "code",
   "execution_count": 2,
   "id": "8d4a66c3",
   "metadata": {},
   "outputs": [],
   "source": [
    "def compute_null_prop(mode):\n",
    "    data = np.array(np.zeros((1, 41)))\n",
    "    saved = 0\n",
    "    path = f\"/home/student/hw1/data/{mode}\"\n",
    "    \n",
    "    for psv_file in tqdm(os.listdir(path)):\n",
    "        \n",
    "        df = pd.read_csv(f\"{path}/{psv_file}\", sep='|')\n",
    "        \n",
    "        if not saved:\n",
    "            cols = df.columns\n",
    "            saved = 1\n",
    "            \n",
    "        indices = df[df['SepsisLabel'] == 1].index\n",
    "        df = df.drop(indices[1:])\n",
    "        label = 0 if len(indices) == 0 else 1\n",
    "        \n",
    "        num_rows = len(df)\n",
    "        null_counts = df.isna().sum().tolist()\n",
    "        row = [x/num_rows for x in null_counts]\n",
    "        data = np.vstack([data, row])\n",
    "    \n",
    "    data = np.delete(data, 0, 0)  # Delete the first row\n",
    "    data = pd.DataFrame(data, columns=cols)\n",
    "    \n",
    "    return data.mean()"
   ]
  },
  {
   "cell_type": "code",
   "execution_count": 3,
   "id": "b8859bf1",
   "metadata": {},
   "outputs": [
    {
     "name": "stderr",
     "output_type": "stream",
     "text": [
      "100%|████████████████████████████████████████████████| 20000/20000 [01:14<00:00, 267.21it/s]"
     ]
    },
    {
     "name": "stdout",
     "output_type": "stream",
     "text": [
      "0. HR: 0.119\n",
      "1. O2Sat: 0.151\n",
      "2. Temp: 0.666\n",
      "3. SBP: 0.164\n",
      "4. MAP: 0.146\n",
      "5. DBP: 0.336\n",
      "6. Resp: 0.173\n",
      "7. EtCO2: 0.973\n",
      "8. BaseExcess: 0.947\n",
      "9. HCO3: 0.959\n",
      "10. FiO2: 0.925\n",
      "11. pH: 0.933\n",
      "12. PaCO2: 0.947\n",
      "13. SaO2: 0.966\n",
      "14. AST: 0.984\n",
      "15. BUN: 0.932\n",
      "16. Alkalinephos: 0.984\n",
      "17. Calcium: 0.943\n",
      "18. Chloride: 0.955\n",
      "19. Creatinine: 0.939\n",
      "20. Bilirubin_direct: 0.998\n",
      "21. Glucose: 0.831\n",
      "22. Lactate: 0.975\n",
      "23. Magnesium: 0.939\n",
      "24. Phosphate: 0.962\n",
      "25. Potassium: 0.908\n",
      "26. Bilirubin_total: 0.985\n",
      "27. TroponinI: 0.989\n",
      "28. Hct: 0.911\n",
      "29. Hgb: 0.926\n",
      "30. PTT: 0.972\n",
      "31. WBC: 0.936\n",
      "32. Fibrinogen: 0.994\n",
      "33. Platelets: 0.941\n",
      "34. Age: 0.0\n",
      "35. Gender: 0.0\n",
      "36. Unit1: 0.384\n",
      "37. Unit2: 0.384\n",
      "38. HospAdmTime: 0.0\n",
      "39. ICULOS: 0.0\n",
      "40. SepsisLabel: 0.0\n"
     ]
    },
    {
     "name": "stderr",
     "output_type": "stream",
     "text": [
      "\n"
     ]
    }
   ],
   "source": [
    "d = dict(compute_null_prop('train'))\n",
    "for i, feat in enumerate(d):\n",
    "    print(f'{i}. {feat}: {round(d[feat], 3)}')"
   ]
  },
  {
   "cell_type": "markdown",
   "id": "908ccdce",
   "metadata": {},
   "source": [
    "We can see that features 7 to 34 have a high percentage of NaN values. Therefore, we will not use them.\n",
    "\n",
    "For the other features, we will fill NaN values using an linear interpolation method for each patient."
   ]
  },
  {
   "cell_type": "markdown",
   "id": "0d9ae3bf",
   "metadata": {},
   "source": [
    "## Features selection"
   ]
  },
  {
   "cell_type": "markdown",
   "id": "58a183f5",
   "metadata": {},
   "source": [
    "We will use all features except features 7-34, 'Unit1' and 'Unit2'.\n",
    "\n",
    "As we saw, features 7-34 were missing approximately 95% of the time.\n",
    "Also, we thought 'Unit1' and 'Unit2' are not necessary for predicting whether a patient has sepsis.\n",
    "\n",
    "We added new feature ('Hours') which indicates the number of the dataframe records."
   ]
  },
  {
   "cell_type": "markdown",
   "id": "e187e6c2",
   "metadata": {},
   "source": [
    "## Preprocessing"
   ]
  },
  {
   "cell_type": "code",
   "execution_count": 4,
   "id": "02fb9832",
   "metadata": {},
   "outputs": [],
   "source": [
    "def preprocess(mode):\n",
    "    data = np.array(np.zeros((1, 13)))\n",
    "    saved = 0\n",
    "    path = f\"/home/student/hw1/data/{mode}\"\n",
    "    \n",
    "    for psv_file in tqdm(os.listdir(path)):\n",
    "        df = pd.read_csv(f\"{path}/{psv_file}\", sep='|')\n",
    "        \n",
    "        # Drop columns\n",
    "        df = df.drop(columns=df.iloc[:, 7:34].columns, axis=1)\n",
    "        df = df.drop(['Unit1', 'Unit2'], axis=1)\n",
    "        \n",
    "        if not saved:\n",
    "            cols = df.columns.tolist()\n",
    "            saved = 1\n",
    "            \n",
    "        # If 'SepsisLabel' == 1 -> ignore rows\n",
    "        indices = df[df['SepsisLabel'] == 1].index\n",
    "        df = df.drop(indices[1:])  \n",
    "        label = 0 if len(indices) == 0 else 1\n",
    "        \n",
    "        # New feature\n",
    "        hours = len(df)\n",
    "        \n",
    "        # Fill nulls\n",
    "        df = df.interpolate(method='linear', limit_direction='both', axis=1)\n",
    "        \n",
    "        # Calculate mean values (labels column not included)\n",
    "        row = df.iloc[:, :-1].mean().to_numpy() \n",
    "        \n",
    "        row = np.append(row, [hours, label])\n",
    "        data = np.vstack([data, row])\n",
    "    \n",
    "    data = np.delete(data, 0, 0)  # Delete the first row\n",
    "    \n",
    "    cols.insert(11, 'Hours')\n",
    "    \n",
    "    data = pd.DataFrame(data, columns=cols)\n",
    "    \n",
    "    return data"
   ]
  },
  {
   "cell_type": "code",
   "execution_count": 5,
   "id": "4656ac6d",
   "metadata": {},
   "outputs": [
    {
     "name": "stderr",
     "output_type": "stream",
     "text": [
      "100%|████████████████████████████████████████████████| 20000/20000 [01:56<00:00, 172.18it/s]\n"
     ]
    }
   ],
   "source": [
    "train_set = preprocess('train')"
   ]
  },
  {
   "cell_type": "code",
   "execution_count": 6,
   "id": "50e01d92",
   "metadata": {},
   "outputs": [],
   "source": [
    "X_train_pre = train_set.iloc[:, :-1]\n",
    "y_train_pre = train_set.iloc[:, -1]\n",
    "features = X_train_pre.columns.tolist()"
   ]
  },
  {
   "cell_type": "markdown",
   "id": "1f4d9498",
   "metadata": {},
   "source": [
    "The train data consists of 20,000 patients. Each patient has records related to the amount of hours he was at the hospital."
   ]
  },
  {
   "cell_type": "code",
   "execution_count": 7,
   "id": "70bfc082",
   "metadata": {},
   "outputs": [
    {
     "data": {
      "text/plain": [
       "0.0    18585\n",
       "1.0     1415\n",
       "Name: SepsisLabel, dtype: int64"
      ]
     },
     "execution_count": 7,
     "metadata": {},
     "output_type": "execute_result"
    }
   ],
   "source": [
    "train_set[\"SepsisLabel\"].value_counts()"
   ]
  },
  {
   "cell_type": "code",
   "execution_count": 8,
   "id": "fcb2c25d",
   "metadata": {},
   "outputs": [
    {
     "data": {
      "text/plain": [
       "<AxesSubplot: ylabel='Sepsis'>"
      ]
     },
     "execution_count": 8,
     "metadata": {},
     "output_type": "execute_result"
    },
    {
     "data": {
      "image/png": "[encoded data removed]",
      "text/plain": [
       "<Figure size 640x480 with 1 Axes>"
      ]
     },
     "metadata": {},
     "output_type": "display_data"
    }
   ],
   "source": [
    "train_set.groupby('SepsisLabel').size().plot(kind='pie', label=\"Sepsis\", y=\"SepsisLabel\", autopct='%1.1f%%')"
   ]
  },
  {
   "cell_type": "markdown",
   "id": "36ae772e",
   "metadata": {},
   "source": [
    "We can see the data is imbalanced: only 7.1% of the patients labeled as sick."
   ]
  },
  {
   "cell_type": "markdown",
   "id": "2995b5f8",
   "metadata": {},
   "source": [
    "### Data enrichment - over sampling"
   ]
  },
  {
   "cell_type": "markdown",
   "id": "d07a56f3",
   "metadata": {},
   "source": [
    "Due to the imbalance, we dicided to enrich the amount of observations from the minority class. We used synthetic minority oversampling technique for nominal and continuous (SMOTENC). \n",
    "\n",
    "Instead of randomly oversampling with replacement, SMOTE takes each minority sample and introduces synthetic data points connecting the minority sample and its nearest neighbors. Neighbors from the k-nearest neighbors are chosen randomly."
   ]
  },
  {
   "cell_type": "code",
   "execution_count": 9,
   "id": "a9ddf39d",
   "metadata": {},
   "outputs": [
    {
     "data": {
      "text/plain": [
       "0.0    18585\n",
       "1.0    18585\n",
       "Name: SepsisLabel, dtype: int64"
      ]
     },
     "execution_count": 9,
     "metadata": {},
     "output_type": "execute_result"
    }
   ],
   "source": [
    "X_train_smote, y_train_smote = SMOTENC(categorical_features=[8], random_state=42).fit_resample(X_train_pre, y_train_pre)\n",
    "\n",
    "y_train_smote.value_counts()"
   ]
  },
  {
   "cell_type": "markdown",
   "id": "cbfa9923",
   "metadata": {},
   "source": [
    "The minority category increased from 1,415 to 18,585 after SMOTENC oversampling."
   ]
  },
  {
   "cell_type": "markdown",
   "id": "d4be985b",
   "metadata": {},
   "source": [
    "### Data normalization"
   ]
  },
  {
   "cell_type": "markdown",
   "id": "0f724c54",
   "metadata": {},
   "source": [
    "Standardize features by removing the mean and scaling to unit variance."
   ]
  },
  {
   "cell_type": "code",
   "execution_count": 10,
   "id": "4cd06c32",
   "metadata": {},
   "outputs": [],
   "source": [
    "scaler = StandardScaler().fit(X_train_smote)\n",
    "X_train_scaled = scaler.transform(X_train_smote)"
   ]
  },
  {
   "cell_type": "code",
   "execution_count": 11,
   "id": "c9bcc68f",
   "metadata": {},
   "outputs": [],
   "source": [
    "# save scaler model for predict.py\n",
    "# pickle.dump(scaler, open('scaler.sav', 'wb'))"
   ]
  },
  {
   "cell_type": "markdown",
   "id": "814325fd",
   "metadata": {},
   "source": [
    "## Prediction"
   ]
  },
  {
   "cell_type": "markdown",
   "id": "ccac3f43",
   "metadata": {},
   "source": [
    "Loading and preprocessing the test data."
   ]
  },
  {
   "cell_type": "code",
   "execution_count": 12,
   "id": "6771af4d",
   "metadata": {},
   "outputs": [
    {
     "name": "stderr",
     "output_type": "stream",
     "text": [
      "100%|████████████████████████████████████████████████| 10000/10000 [00:59<00:00, 167.01it/s]\n"
     ]
    }
   ],
   "source": [
    "test_set = preprocess('test')"
   ]
  },
  {
   "cell_type": "code",
   "execution_count": 13,
   "id": "95689112",
   "metadata": {},
   "outputs": [],
   "source": [
    "X_test = test_set.iloc[:, :-1]\n",
    "y_test = test_set.iloc[:, -1]\n",
    "\n",
    "# Normalization\n",
    "X_test_scaled = scaler.transform(X_test)"
   ]
  },
  {
   "cell_type": "code",
   "execution_count": 14,
   "id": "f7350c1c",
   "metadata": {},
   "outputs": [],
   "source": [
    "preds = {}  # for saving test predictions"
   ]
  },
  {
   "cell_type": "markdown",
   "id": "a993708f",
   "metadata": {},
   "source": [
    "#### Split the data to train and validation sets"
   ]
  },
  {
   "cell_type": "code",
   "execution_count": 15,
   "id": "9b5fae97",
   "metadata": {},
   "outputs": [],
   "source": [
    "X_train, X_valid, y_train, y_valid = train_test_split(X_train_scaled, y_train_smote, test_size=0.2, random_state=42)"
   ]
  },
  {
   "cell_type": "markdown",
   "id": "02e1e265",
   "metadata": {},
   "source": [
    "For each algorithm we perform 3-fold cross validation to find the best hyperparameters (including parameters for regularization) over specified values."
   ]
  },
  {
   "cell_type": "markdown",
   "id": "1ffd49a5",
   "metadata": {},
   "source": [
    "### 1. Support Vector Machine (SVM)"
   ]
  },
  {
   "cell_type": "markdown",
   "id": "270f567e",
   "metadata": {},
   "source": [
    "First, we used SVM to see the performance of a linear model on our data.\n",
    "\n",
    "The objective of the support vector machine algorithm is to find a hyperplane in an N-dimensional space (N is the number of features) that distinctly classifies the data points."
   ]
  },
  {
   "cell_type": "markdown",
   "id": "409633d0",
   "metadata": {},
   "source": [
    "#### Cross validation & hyperparameter tuning"
   ]
  },
  {
   "cell_type": "code",
   "execution_count": 16,
   "id": "3a30488f",
   "metadata": {},
   "outputs": [],
   "source": [
    "# # Create the parameter grid \n",
    "# svm_params = {'C': [0.1, 1, 10, 100], 'gamma': ['scale', 0.01, 0.1]}\n",
    "\n",
    "# # Create a based model\n",
    "# sv = SVC()\n",
    "\n",
    "# # Instantiate the grid search model\n",
    "# grid_search = GridSearchCV(estimator=sv, param_grid=svm_params, scoring='f1', cv=3, verbose=1)\n",
    "# grid_result = grid_search.fit(X_train, y_train)\n",
    "\n",
    "# print(\"Best parameter after tuning: %s\" % (grid_result.best_params_))"
   ]
  },
  {
   "cell_type": "markdown",
   "id": "c1874cb3",
   "metadata": {},
   "source": [
    "Best parameter after tuning: {`C`: `100`, `gamma`: `scale`}"
   ]
  },
  {
   "cell_type": "markdown",
   "id": "e71f219d",
   "metadata": {},
   "source": [
    "#### Training and validation results"
   ]
  },
  {
   "cell_type": "code",
   "execution_count": 17,
   "id": "6500a7f6",
   "metadata": {},
   "outputs": [],
   "source": [
    "# chosen_svc = grid_result.best_estimator_\n",
    "# chosen_svc = SVC(C=100, gamma='scale')\n",
    "chosen_svc = SVC(C=10, gamma=0.01)  # better on test\n",
    "trained_svc = chosen_svc.fit(X_train, y_train)"
   ]
  },
  {
   "cell_type": "code",
   "execution_count": 18,
   "id": "ec825c63",
   "metadata": {},
   "outputs": [
    {
     "name": "stdout",
     "output_type": "stream",
     "text": [
      "Precision: 0.9198418404025881\n",
      "Recall: 0.6946254071661238\n",
      "f1 score: 0.7915248994741725\n"
     ]
    }
   ],
   "source": [
    "valid_pred_svc = trained_svc.predict(X_valid)\n",
    "\n",
    "print(f'Precision: {precision_score(y_valid, valid_pred_svc)}')\n",
    "print(f'Recall: {recall_score(y_valid, valid_pred_svc)}')\n",
    "print(f'f1 score: {f1_score(y_valid, valid_pred_svc)}')"
   ]
  },
  {
   "cell_type": "markdown",
   "id": "ce1b0037",
   "metadata": {},
   "source": [
    "#### Test results"
   ]
  },
  {
   "cell_type": "code",
   "execution_count": 19,
   "id": "3e8c35ef",
   "metadata": {},
   "outputs": [
    {
     "name": "stdout",
     "output_type": "stream",
     "text": [
      "Precision: 0.48050682261208577\n",
      "Recall: 0.6653171390013495\n",
      "f1 score: 0.5580079230333899\n"
     ]
    }
   ],
   "source": [
    "test_pred_svc = trained_svc.predict(X_test_scaled)\n",
    "preds['SVM'] = test_pred_svc\n",
    "\n",
    "print(f'Precision: {precision_score(y_test, test_pred_svc)}')\n",
    "print(f'Recall: {recall_score(y_test, test_pred_svc)}')\n",
    "print(f'f1 score: {f1_score(y_test, test_pred_svc)}')"
   ]
  },
  {
   "cell_type": "markdown",
   "id": "bce1bb25",
   "metadata": {},
   "source": [
    "### 2. Random Forest"
   ]
  },
  {
   "cell_type": "markdown",
   "id": "5850c838",
   "metadata": {},
   "source": [
    "One of the strongest ML models that exists. It combines the power of bagging, feature selection and trees to one powerful model."
   ]
  },
  {
   "cell_type": "markdown",
   "id": "1cee38cf",
   "metadata": {},
   "source": [
    "#### Cross validation & hyperparameter tuning"
   ]
  },
  {
   "cell_type": "code",
   "execution_count": 20,
   "id": "383b9c54",
   "metadata": {},
   "outputs": [],
   "source": [
    "# rf_params = {'n_estimators': [100, 500, 1000], 'min_samples_leaf': [1, 3, 5], 'min_samples_split': [2, 5, 10]}\n",
    "    \n",
    "# rf = RandomForestClassifier()\n",
    "# grid_search = GridSearchCV(estimator=rf, param_grid=rf_params, scoring='f1', cv=3, verbose=1)\n",
    "# grid_result = grid_search.fit(X_train, y_train)\n",
    "\n",
    "# print(\"Best parameter after tuning: %s\" % (grid_result.best_params_))"
   ]
  },
  {
   "cell_type": "markdown",
   "id": "09f17321",
   "metadata": {},
   "source": [
    "Best parameter after tuning: {`min_samples_leaf`: `1`, `min_samples_split`: `2`, `n_estimators`: `1000`}"
   ]
  },
  {
   "cell_type": "markdown",
   "id": "59047881",
   "metadata": {},
   "source": [
    "#### Training and validation results"
   ]
  },
  {
   "cell_type": "code",
   "execution_count": 21,
   "id": "d7ca0e0a",
   "metadata": {},
   "outputs": [],
   "source": [
    "# chosen_rf = random_result.best_estimator_\n",
    "# chosen_rf = RandomForestClassifier(n_estimators=1000, min_samples_split=2, min_samples_leaf=1, random_state=42)\n",
    "chosen_rf = RandomForestClassifier(n_estimators=100, min_samples_split=2, min_samples_leaf=1, random_state=42)  # better on test\n",
    "trained_rf = chosen_rf.fit(X_train, y_train)"
   ]
  },
  {
   "cell_type": "code",
   "execution_count": 22,
   "id": "fd194012",
   "metadata": {},
   "outputs": [
    {
     "name": "stdout",
     "output_type": "stream",
     "text": [
      "Precision: 0.9753462603878116\n",
      "Recall: 0.9557546145494028\n",
      "f1 score: 0.965451055662188\n"
     ]
    }
   ],
   "source": [
    "valid_pred_rf = trained_rf.predict(X_valid)\n",
    "\n",
    "print(f'Precision: {precision_score(y_valid, valid_pred_rf)}')\n",
    "print(f'Recall: {recall_score(y_valid, valid_pred_rf)}')\n",
    "print(f'f1 score: {f1_score(y_valid, valid_pred_rf)}')"
   ]
  },
  {
   "cell_type": "markdown",
   "id": "1c680df4",
   "metadata": {},
   "source": [
    "#### Test results"
   ]
  },
  {
   "cell_type": "code",
   "execution_count": 23,
   "id": "f3d72640",
   "metadata": {},
   "outputs": [
    {
     "name": "stdout",
     "output_type": "stream",
     "text": [
      "Precision: 0.6871428571428572\n",
      "Recall: 0.6491228070175439\n",
      "f1 score: 0.6675919500346982\n"
     ]
    }
   ],
   "source": [
    "test_pred_rf = trained_rf.predict(X_test_scaled)\n",
    "preds['Random Forest'] = test_pred_rf\n",
    "\n",
    "print(f'Precision: {precision_score(y_test, test_pred_rf)}')\n",
    "print(f'Recall: {recall_score(y_test, test_pred_rf)}')\n",
    "print(f'f1 score: {f1_score(y_test, test_pred_rf)}')"
   ]
  },
  {
   "cell_type": "markdown",
   "id": "07cea5b1",
   "metadata": {},
   "source": [
    "#### Features importances"
   ]
  },
  {
   "cell_type": "code",
   "execution_count": 24,
   "id": "4a9983ae",
   "metadata": {},
   "outputs": [
    {
     "name": "stdout",
     "output_type": "stream",
     "text": [
      "Hours 0.268345574152062\n",
      "ICULOS 0.2394349894026137\n",
      "HospAdmTime 0.08197878572052736\n",
      "HR 0.05830070913280729\n",
      "SBP 0.058045631109446126\n",
      "Resp 0.05280377571587369\n",
      "O2Sat 0.04977590732455107\n",
      "Temp 0.04852752025174101\n",
      "Age 0.04567068927388072\n",
      "DBP 0.04437753905775792\n",
      "MAP 0.04326317913256172\n",
      "Gender 0.009475699726177374\n"
     ]
    }
   ],
   "source": [
    "l = []\n",
    "for i, feature in enumerate(features):\n",
    "    l.append((feature, trained_rf.feature_importances_[i]))\n",
    "l.sort(key=lambda x: x[1], reverse=True)  \n",
    "for feature, importance in l:\n",
    "    print(feature, importance)"
   ]
  },
  {
   "cell_type": "markdown",
   "id": "fe5c2c93",
   "metadata": {},
   "source": [
    "### 3. Gradient Boosted Trees (XGboost)"
   ]
  },
  {
   "cell_type": "markdown",
   "id": "f54cccc7",
   "metadata": {},
   "source": [
    "XGboost is an ensemble learning method that combines multiple decision trees to make a more robust and accurate prediction."
   ]
  },
  {
   "cell_type": "markdown",
   "id": "bcfb436b",
   "metadata": {},
   "source": [
    "#### Cross validation & hyperparameter tuning"
   ]
  },
  {
   "cell_type": "code",
   "execution_count": 25,
   "id": "bddc1b5c",
   "metadata": {},
   "outputs": [],
   "source": [
    "# xgb_params = {\"n_estimators\": [100, 500, 1000], \"max_depth\": [3, 6, 9], \"learning_rate\": [0.01, 0.1, 0.3]}\n",
    "    \n",
    "# xgb = XGBClassifier()\n",
    "\n",
    "# grid_search = GridSearchCV(estimator=xgb, param_grid=xgb_params, scoring='f1', cv=3, verbose=1)\n",
    "# grid_result = grid_search.fit(X_train, y_train)\n",
    "\n",
    "# print(\"Best parameter after tuning: %s\" % (grid_result.best_params_))"
   ]
  },
  {
   "cell_type": "markdown",
   "id": "60bf92b0",
   "metadata": {},
   "source": [
    "Best parameter after tuning: {'learning_rate': 0.1, 'max_depth': 6, 'n_estimators': 500}"
   ]
  },
  {
   "cell_type": "markdown",
   "id": "9942d728",
   "metadata": {},
   "source": [
    "#### Training and validation results"
   ]
  },
  {
   "cell_type": "code",
   "execution_count": 26,
   "id": "7ead48b2",
   "metadata": {},
   "outputs": [],
   "source": [
    "# chosen_xgb = grid_result.best_estimator_\n",
    "chosen_xgb = XGBClassifier(n_estimators=500, max_depth=6, learning_rate=0.1)\n",
    "trained_xgb = chosen_xgb.fit(X_train, y_train)"
   ]
  },
  {
   "cell_type": "code",
   "execution_count": 27,
   "id": "7a0f7530",
   "metadata": {},
   "outputs": [
    {
     "name": "stdout",
     "output_type": "stream",
     "text": [
      "Precision: 0.9887486278814489\n",
      "Recall: 0.9780130293159609\n",
      "f1 score: 0.9833515283842795\n"
     ]
    }
   ],
   "source": [
    "valid_pred_xgb = trained_xgb.predict(X_valid)\n",
    "\n",
    "print(f'Precision: {precision_score(y_valid, valid_pred_xgb)}')\n",
    "print(f'Recall: {recall_score(y_valid, valid_pred_xgb)}')\n",
    "print(f'f1 score: {f1_score(y_valid, valid_pred_xgb)}')"
   ]
  },
  {
   "cell_type": "markdown",
   "id": "b400e49d",
   "metadata": {},
   "source": [
    "#### Test results"
   ]
  },
  {
   "cell_type": "code",
   "execution_count": 28,
   "id": "ed7aa34f",
   "metadata": {},
   "outputs": [
    {
     "name": "stdout",
     "output_type": "stream",
     "text": [
      "Precision: 0.822141560798548\n",
      "Recall: 0.611336032388664\n",
      "f1 score: 0.7012383900928791\n"
     ]
    }
   ],
   "source": [
    "test_pred_xgb = trained_xgb.predict(X_test_scaled)\n",
    "preds['XGboost'] = test_pred_xgb\n",
    "\n",
    "print(f'Precision: {precision_score(y_test, test_pred_xgb)}')\n",
    "print(f'Recall: {recall_score(y_test, test_pred_xgb)}')\n",
    "print(f'f1 score: {f1_score(y_test, test_pred_xgb)}')"
   ]
  },
  {
   "cell_type": "markdown",
   "id": "afe35742",
   "metadata": {},
   "source": [
    "#### Features importances"
   ]
  },
  {
   "cell_type": "code",
   "execution_count": 29,
   "id": "e5015ae6",
   "metadata": {},
   "outputs": [
    {
     "name": "stdout",
     "output_type": "stream",
     "text": [
      "Hours 0.36954823\n",
      "ICULOS 0.15206762\n",
      "Gender 0.10866195\n",
      "HospAdmTime 0.08602886\n",
      "HR 0.049112473\n",
      "O2Sat 0.038754784\n",
      "SBP 0.034732375\n",
      "Age 0.034548957\n",
      "Resp 0.034388322\n",
      "Temp 0.03224411\n",
      "MAP 0.030711895\n",
      "DBP 0.029200371\n"
     ]
    }
   ],
   "source": [
    "l = []\n",
    "for i, feature in enumerate(features):\n",
    "    l.append((feature, trained_xgb.feature_importances_[i]))\n",
    "l.sort(key=lambda x: x[1], reverse=True)  \n",
    "for feature, importance in l:\n",
    "    print(feature, importance)"
   ]
  },
  {
   "cell_type": "markdown",
   "id": "1fb635a6",
   "metadata": {},
   "source": [
    "We can see that 'Hours' is the most informative feature for the classification."
   ]
  },
  {
   "cell_type": "code",
   "execution_count": 30,
   "id": "d123303b",
   "metadata": {},
   "outputs": [],
   "source": [
    "# save model\n",
    "# pickle.dump(trained_xgb, open('xgb.sav', 'wb'))"
   ]
  },
  {
   "cell_type": "markdown",
   "id": "bd5c61df",
   "metadata": {},
   "source": [
    "## Post Analysis"
   ]
  },
  {
   "cell_type": "markdown",
   "id": "92c48ec4",
   "metadata": {},
   "source": [
    "### Test results summary"
   ]
  },
  {
   "cell_type": "code",
   "execution_count": 31,
   "id": "d0e66d22",
   "metadata": {},
   "outputs": [
    {
     "data": {
      "text/html": [
       "<div>\n",
       "<style scoped>\n",
       "    .dataframe tbody tr th:only-of-type {\n",
       "        vertical-align: middle;\n",
       "    }\n",
       "\n",
       "    .dataframe tbody tr th {\n",
       "        vertical-align: top;\n",
       "    }\n",
       "\n",
       "    .dataframe thead th {\n",
       "        text-align: right;\n",
       "    }\n",
       "</style>\n",
       "<table border=\"1\" class=\"dataframe\">\n",
       "  <thead>\n",
       "    <tr style=\"text-align: right;\">\n",
       "      <th></th>\n",
       "      <th>model</th>\n",
       "      <th>precision</th>\n",
       "      <th>recall</th>\n",
       "      <th>f1</th>\n",
       "    </tr>\n",
       "  </thead>\n",
       "  <tbody>\n",
       "    <tr>\n",
       "      <th>0</th>\n",
       "      <td>SVM</td>\n",
       "      <td>0.480507</td>\n",
       "      <td>0.665317</td>\n",
       "      <td>0.558008</td>\n",
       "    </tr>\n",
       "    <tr>\n",
       "      <th>1</th>\n",
       "      <td>Random Forest</td>\n",
       "      <td>0.687143</td>\n",
       "      <td>0.649123</td>\n",
       "      <td>0.667592</td>\n",
       "    </tr>\n",
       "    <tr>\n",
       "      <th>2</th>\n",
       "      <td>XGboost</td>\n",
       "      <td>0.822142</td>\n",
       "      <td>0.611336</td>\n",
       "      <td>0.701238</td>\n",
       "    </tr>\n",
       "  </tbody>\n",
       "</table>\n",
       "</div>"
      ],
      "text/plain": [
       "           model  precision    recall        f1\n",
       "0            SVM   0.480507  0.665317  0.558008\n",
       "1  Random Forest   0.687143  0.649123  0.667592\n",
       "2        XGboost   0.822142  0.611336  0.701238"
      ]
     },
     "execution_count": 31,
     "metadata": {},
     "output_type": "execute_result"
    }
   ],
   "source": [
    "results = {'model': [], 'precision': [], 'recall': [], 'f1': []}\n",
    "\n",
    "for model in preds.keys():\n",
    "    results['model'].append(model)\n",
    "    results['precision'].append(precision_score(y_test, preds[model]))\n",
    "    results['recall'].append(recall_score(y_test, preds[model]))\n",
    "    results['f1'].append(f1_score(y_test, preds[model]))\n",
    "    \n",
    "results = pd.DataFrame(results)\n",
    "results"
   ]
  },
  {
   "cell_type": "markdown",
   "id": "0fef2ced",
   "metadata": {},
   "source": [
    "### ROC-AUC Curve"
   ]
  },
  {
   "cell_type": "code",
   "execution_count": 32,
   "id": "99076e92",
   "metadata": {},
   "outputs": [
    {
     "data": {
      "image/png": "[encoded data removed]",
      "text/plain": [
       "<Figure size 640x480 with 1 Axes>"
      ]
     },
     "metadata": {},
     "output_type": "display_data"
    }
   ],
   "source": [
    "plt.figure().clf()\n",
    "\n",
    "# SVM\n",
    "fpr, tpr, _ = roc_curve(y_test, preds['SVM'])\n",
    "auc = round(roc_auc_score(y_test, preds['SVM']), 4)\n",
    "plt.plot(fpr, tpr, label=\"SVM, AUC=\" + str(auc))\n",
    "\n",
    "# Random Forest\n",
    "fpr, tpr, _ = roc_curve(y_test, preds['Random Forest'])\n",
    "auc = round(roc_auc_score(y_test, preds['Random Forest']), 4)\n",
    "plt.plot(fpr, tpr, label=\"Random Forest, AUC=\" + str(auc))\n",
    "\n",
    "# XGboost\n",
    "fpr, tpr, _ = roc_curve(y_test, preds['XGboost'])\n",
    "auc = round(roc_auc_score(y_test, preds['XGboost']), 4)\n",
    "plt.plot(fpr, tpr, label=\"XGboost, AUC=\" + str(auc))\n",
    "\n",
    "plt.plot([0, 1], ls=\"--\", label='Random Classifier', c='black')\n",
    "plt.legend()\n",
    "plt.title('ROC Curve')\n",
    "plt.xlabel('False Positive Rate')\n",
    "plt.ylabel('True Positive Rate')\n",
    "plt.grid()\n",
    "plt.show()"
   ]
  },
  {
   "cell_type": "markdown",
   "id": "3c756cd0",
   "metadata": {},
   "source": [
    "The AUROC is relatively similar for all the models, but XGboost got the best result."
   ]
  },
  {
   "cell_type": "markdown",
   "id": "32f3fa74",
   "metadata": {},
   "source": [
    "## Summary and discussion"
   ]
  },
  {
   "cell_type": "markdown",
   "id": "0d4e9ec4",
   "metadata": {},
   "source": [
    "The task was interesting and challenging.\n",
    "\n",
    "Some conclusions:\n",
    "1. There is high importance for data representation and features selection. \n",
    "2. Applying a up-sampling method to treat the imbalanced data improved the results."
   ]
  }
 ],
 "metadata": {
  "kernelspec": {
   "display_name": "Python 3 (ipykernel)",
   "language": "python",
   "name": "python3"
  },
  "language_info": {
   "codemirror_mode": {
    "name": "ipython",
    "version": 3
   },
   "file_extension": ".py",
   "mimetype": "text/x-python",
   "name": "python",
   "nbconvert_exporter": "python",
   "pygments_lexer": "ipython3",
   "version": "3.10.9"
  }
 },
 "nbformat": 4,
 "nbformat_minor": 5
}
